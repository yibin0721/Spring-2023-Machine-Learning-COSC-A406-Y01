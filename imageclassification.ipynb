{
 "cells": [
  {
   "cell_type": "code",
   "execution_count": 1,
   "id": "8c3032a0",
   "metadata": {},
   "outputs": [],
   "source": [
    "import pandas as pd\n",
    "import numpy as np\n",
    "\n",
    "from sklearn.svm import SVC\n",
    "from sklearn.model_selection import GridSearchCV\n",
    "from sklearn.model_selection import train_test_split\n",
    "from sklearn.metrics import accuracy_score\n",
    "\n",
    "##images:\n",
    "\n",
    "from skimage.transform import resize\n",
    "from skimage.io import imread\n",
    "\n",
    "import os #os is a library deals with files and paths\n",
    "import matplotlib.pyplot as plt\n",
    "\n",
    "import pickle\n",
    "\n",
    "import warnings\n",
    "\n",
    "warnings.simplefilter ('ignore')\n"
   ]
  },
  {
   "cell_type": "code",
   "execution_count": 2,
   "id": "150386f9",
   "metadata": {},
   "outputs": [
    {
     "name": "stdout",
     "output_type": "stream",
     "text": [
      "loading...category: ChickenHead\n",
      "loaded category ChickenHead successfully\n",
      "loading...category: ElephantHead\n",
      "loaded category ElephantHead successfully\n"
     ]
    }
   ],
   "source": [
    "datadir = 'imageclassification/Images/'\n",
    "categories = ['ChickenHead','ElephantHead']\n",
    "\n",
    "flat_data_arr = []\n",
    "target_arr = []\n",
    "\n",
    "for i in categories:\n",
    "    print ('loading...category:',i)\n",
    "    path = os.path.join (datadir, i)\n",
    "    for img in os.listdir (path):\n",
    "        img_array = imread (os.path.join (path,img))\n",
    "        img_resized = resize (img_array,(150,150,3))\n",
    "        flat_data_arr.append(img_resized.flatten())\n",
    "        target_arr.append(categories.index(i))\n",
    "    print ('loaded category', i, 'successfully')"
   ]
  },
  {
   "cell_type": "code",
   "execution_count": 3,
   "id": "ec6d31d2",
   "metadata": {},
   "outputs": [
    {
     "data": {
      "text/html": [
       "<div>\n",
       "<style scoped>\n",
       "    .dataframe tbody tr th:only-of-type {\n",
       "        vertical-align: middle;\n",
       "    }\n",
       "\n",
       "    .dataframe tbody tr th {\n",
       "        vertical-align: top;\n",
       "    }\n",
       "\n",
       "    .dataframe thead th {\n",
       "        text-align: right;\n",
       "    }\n",
       "</style>\n",
       "<table border=\"1\" class=\"dataframe\">\n",
       "  <thead>\n",
       "    <tr style=\"text-align: right;\">\n",
       "      <th></th>\n",
       "      <th>0</th>\n",
       "      <th>1</th>\n",
       "      <th>2</th>\n",
       "      <th>3</th>\n",
       "      <th>4</th>\n",
       "      <th>5</th>\n",
       "      <th>6</th>\n",
       "      <th>7</th>\n",
       "      <th>8</th>\n",
       "      <th>9</th>\n",
       "      <th>...</th>\n",
       "      <th>67491</th>\n",
       "      <th>67492</th>\n",
       "      <th>67493</th>\n",
       "      <th>67494</th>\n",
       "      <th>67495</th>\n",
       "      <th>67496</th>\n",
       "      <th>67497</th>\n",
       "      <th>67498</th>\n",
       "      <th>67499</th>\n",
       "      <th>Target</th>\n",
       "    </tr>\n",
       "  </thead>\n",
       "  <tbody>\n",
       "    <tr>\n",
       "      <th>0</th>\n",
       "      <td>0.258824</td>\n",
       "      <td>0.258824</td>\n",
       "      <td>0.219608</td>\n",
       "      <td>0.231373</td>\n",
       "      <td>0.231373</td>\n",
       "      <td>0.192157</td>\n",
       "      <td>0.168627</td>\n",
       "      <td>0.168627</td>\n",
       "      <td>0.129412</td>\n",
       "      <td>0.180392</td>\n",
       "      <td>...</td>\n",
       "      <td>0.321569</td>\n",
       "      <td>0.321569</td>\n",
       "      <td>0.290196</td>\n",
       "      <td>0.301961</td>\n",
       "      <td>0.301961</td>\n",
       "      <td>0.270588</td>\n",
       "      <td>0.290196</td>\n",
       "      <td>0.290196</td>\n",
       "      <td>0.258824</td>\n",
       "      <td>0</td>\n",
       "    </tr>\n",
       "    <tr>\n",
       "      <th>1</th>\n",
       "      <td>0.121569</td>\n",
       "      <td>0.227451</td>\n",
       "      <td>0.105882</td>\n",
       "      <td>0.129412</td>\n",
       "      <td>0.227451</td>\n",
       "      <td>0.113725</td>\n",
       "      <td>0.176471</td>\n",
       "      <td>0.254902</td>\n",
       "      <td>0.149020</td>\n",
       "      <td>0.219608</td>\n",
       "      <td>...</td>\n",
       "      <td>0.784314</td>\n",
       "      <td>0.670588</td>\n",
       "      <td>0.513725</td>\n",
       "      <td>0.772549</td>\n",
       "      <td>0.658824</td>\n",
       "      <td>0.501961</td>\n",
       "      <td>0.768627</td>\n",
       "      <td>0.654902</td>\n",
       "      <td>0.498039</td>\n",
       "      <td>0</td>\n",
       "    </tr>\n",
       "    <tr>\n",
       "      <th>2</th>\n",
       "      <td>0.415686</td>\n",
       "      <td>0.698039</td>\n",
       "      <td>0.258824</td>\n",
       "      <td>0.384314</td>\n",
       "      <td>0.666667</td>\n",
       "      <td>0.235294</td>\n",
       "      <td>0.349020</td>\n",
       "      <td>0.619608</td>\n",
       "      <td>0.203922</td>\n",
       "      <td>0.321569</td>\n",
       "      <td>...</td>\n",
       "      <td>0.423529</td>\n",
       "      <td>0.615686</td>\n",
       "      <td>0.266667</td>\n",
       "      <td>0.435294</td>\n",
       "      <td>0.627451</td>\n",
       "      <td>0.270588</td>\n",
       "      <td>0.380392</td>\n",
       "      <td>0.572549</td>\n",
       "      <td>0.215686</td>\n",
       "      <td>0</td>\n",
       "    </tr>\n",
       "    <tr>\n",
       "      <th>3</th>\n",
       "      <td>0.000000</td>\n",
       "      <td>0.000000</td>\n",
       "      <td>0.000000</td>\n",
       "      <td>0.000000</td>\n",
       "      <td>0.000000</td>\n",
       "      <td>0.000000</td>\n",
       "      <td>0.000000</td>\n",
       "      <td>0.000000</td>\n",
       "      <td>0.000000</td>\n",
       "      <td>0.000000</td>\n",
       "      <td>...</td>\n",
       "      <td>0.000000</td>\n",
       "      <td>0.000000</td>\n",
       "      <td>0.000000</td>\n",
       "      <td>0.000000</td>\n",
       "      <td>0.000000</td>\n",
       "      <td>0.000000</td>\n",
       "      <td>0.000000</td>\n",
       "      <td>0.000000</td>\n",
       "      <td>0.000000</td>\n",
       "      <td>0</td>\n",
       "    </tr>\n",
       "    <tr>\n",
       "      <th>4</th>\n",
       "      <td>0.784314</td>\n",
       "      <td>0.729412</td>\n",
       "      <td>0.623529</td>\n",
       "      <td>0.776471</td>\n",
       "      <td>0.721569</td>\n",
       "      <td>0.615686</td>\n",
       "      <td>0.737255</td>\n",
       "      <td>0.682353</td>\n",
       "      <td>0.576471</td>\n",
       "      <td>0.690196</td>\n",
       "      <td>...</td>\n",
       "      <td>0.717647</td>\n",
       "      <td>0.643137</td>\n",
       "      <td>0.517647</td>\n",
       "      <td>0.725490</td>\n",
       "      <td>0.650980</td>\n",
       "      <td>0.525490</td>\n",
       "      <td>0.721569</td>\n",
       "      <td>0.647059</td>\n",
       "      <td>0.521569</td>\n",
       "      <td>0</td>\n",
       "    </tr>\n",
       "  </tbody>\n",
       "</table>\n",
       "<p>5 rows × 67501 columns</p>\n",
       "</div>"
      ],
      "text/plain": [
       "          0         1         2         3         4         5         6  \\\n",
       "0  0.258824  0.258824  0.219608  0.231373  0.231373  0.192157  0.168627   \n",
       "1  0.121569  0.227451  0.105882  0.129412  0.227451  0.113725  0.176471   \n",
       "2  0.415686  0.698039  0.258824  0.384314  0.666667  0.235294  0.349020   \n",
       "3  0.000000  0.000000  0.000000  0.000000  0.000000  0.000000  0.000000   \n",
       "4  0.784314  0.729412  0.623529  0.776471  0.721569  0.615686  0.737255   \n",
       "\n",
       "          7         8         9  ...     67491     67492     67493     67494  \\\n",
       "0  0.168627  0.129412  0.180392  ...  0.321569  0.321569  0.290196  0.301961   \n",
       "1  0.254902  0.149020  0.219608  ...  0.784314  0.670588  0.513725  0.772549   \n",
       "2  0.619608  0.203922  0.321569  ...  0.423529  0.615686  0.266667  0.435294   \n",
       "3  0.000000  0.000000  0.000000  ...  0.000000  0.000000  0.000000  0.000000   \n",
       "4  0.682353  0.576471  0.690196  ...  0.717647  0.643137  0.517647  0.725490   \n",
       "\n",
       "      67495     67496     67497     67498     67499  Target  \n",
       "0  0.301961  0.270588  0.290196  0.290196  0.258824       0  \n",
       "1  0.658824  0.501961  0.768627  0.654902  0.498039       0  \n",
       "2  0.627451  0.270588  0.380392  0.572549  0.215686       0  \n",
       "3  0.000000  0.000000  0.000000  0.000000  0.000000       0  \n",
       "4  0.650980  0.525490  0.721569  0.647059  0.521569       0  \n",
       "\n",
       "[5 rows x 67501 columns]"
      ]
     },
     "execution_count": 3,
     "metadata": {},
     "output_type": "execute_result"
    }
   ],
   "source": [
    "flat_data = np.array(flat_data_arr)\n",
    "target = np.array (target_arr)\n",
    "\n",
    "df = pd.DataFrame (flat_data)\n",
    "df['Target'] = target\n",
    "\n",
    "df.head()"
   ]
  },
  {
   "cell_type": "code",
   "execution_count": 4,
   "id": "9234df63",
   "metadata": {},
   "outputs": [],
   "source": [
    "X = df.values[:, :-1]\n",
    "Y = df.values[:,-1]\n",
    "\n",
    "xtrain, xtest, ytrain, ytest = train_test_split (X, Y, test_size=0.2, random_state=47)"
   ]
  },
  {
   "cell_type": "code",
   "execution_count": 54,
   "id": "f268fc94",
   "metadata": {},
   "outputs": [
    {
     "data": {
      "text/plain": [
       "GridSearchCV(estimator=SVC(),\n",
       "             param_grid={'C': [10, 100], 'gamma': [0.0001], 'kernel': ['rbf']})"
      ]
     },
     "execution_count": 54,
     "metadata": {},
     "output_type": "execute_result"
    }
   ],
   "source": [
    "param_grid = { 'C': [10, 100], 'gamma': [0.0001], 'kernel':['rbf']}\n",
    "svc = SVC()\n",
    "\n",
    "model = GridSearchCV (svc, param_grid)\n",
    "model.fit (xtrain,ytrain)"
   ]
  },
  {
   "cell_type": "code",
   "execution_count": 55,
   "id": "d607389b",
   "metadata": {},
   "outputs": [
    {
     "name": "stdout",
     "output_type": "stream",
     "text": [
      "{'C': 10, 'gamma': 0.0001, 'kernel': 'rbf'}\n",
      "Train Accuracy: 1.0\n",
      "Test Accuracy: 0.9\n"
     ]
    }
   ],
   "source": [
    "print (model.best_params_)\n",
    "ypred_train = model.predict (xtrain)\n",
    "ypred_test =model.predict (xtest)\n",
    "\n",
    "print('Train Accuracy:', accuracy_score (ypred_train, ytrain))\n",
    "print('Test Accuracy:', accuracy_score (ypred_test, ytest))\n"
   ]
  },
  {
   "cell_type": "code",
   "execution_count": 56,
   "id": "f898306f",
   "metadata": {},
   "outputs": [],
   "source": [
    "pickle.dump (model, open('supportvectormachineModel.pkl', 'wb'))"
   ]
  },
  {
   "cell_type": "code",
   "execution_count": 57,
   "id": "aa959dad",
   "metadata": {},
   "outputs": [],
   "source": [
    "model = pickle.load (open('supportvectormachineModel.pkl', 'rb'))"
   ]
  },
  {
   "cell_type": "code",
   "execution_count": 58,
   "id": "7da58b35",
   "metadata": {},
   "outputs": [
    {
     "name": "stdout",
     "output_type": "stream",
     "text": [
      "(1, 67500)\n"
     ]
    }
   ],
   "source": [
    "filename = 'imageclassification/Images/elephent1.jpg'\n",
    "img_array = imread (filename)\n",
    "img_resized = resize(img_array, (150,150,3))\n",
    "test_data =np.array (img_resized.flatten())\n",
    "test_data =test_data.reshape(1,-1)\n",
    "print (test_data.shape)"
   ]
  },
  {
   "cell_type": "code",
   "execution_count": 59,
   "id": "be8331fe",
   "metadata": {},
   "outputs": [
    {
     "name": "stdout",
     "output_type": "stream",
     "text": [
      "Elephant\n"
     ]
    }
   ],
   "source": [
    "p = model.predict (test_data)\n",
    "if p==0: print ('Chicken')\n",
    "else: print ('Elephant')"
   ]
  },
  {
   "cell_type": "code",
   "execution_count": 60,
   "id": "8804ce8a",
   "metadata": {},
   "outputs": [
    {
     "name": "stdout",
     "output_type": "stream",
     "text": [
      "For k= 5 Accuracy = 0.825\n",
      "For k= 6 Accuracy = 0.875\n",
      "For k= 7 Accuracy = 0.825\n",
      "For k= 8 Accuracy = 0.85\n",
      "For k= 9 Accuracy = 0.8\n"
     ]
    }
   ],
   "source": [
    "from sklearn.neighbors import KNeighborsClassifier\n",
    "from sklearn.metrics import accuracy_score\n",
    "for k in range (5, 10, 1):\n",
    "    knn = KNeighborsClassifier(n_neighbors=k)\n",
    "    knn.fit(xtrain, ytrain)\n",
    "    y_pred = knn.predict (xtest)\n",
    "    a =accuracy_score (y_pred, ytest)\n",
    "    print (\"For k=\", k, \"Accuracy =\", a)"
   ]
  },
  {
   "cell_type": "code",
   "execution_count": 61,
   "id": "b6c57fb0",
   "metadata": {},
   "outputs": [],
   "source": [
    "pickle.dump (model, open('KNeighborsClassifierModel.pkl', 'wb'))"
   ]
  },
  {
   "cell_type": "code",
   "execution_count": 62,
   "id": "096920b2",
   "metadata": {},
   "outputs": [],
   "source": [
    "model = pickle.load (open('KNeighborsClassifierModel.pkl', 'rb'))"
   ]
  },
  {
   "cell_type": "code",
   "execution_count": 63,
   "id": "62fa0903",
   "metadata": {},
   "outputs": [
    {
     "name": "stdout",
     "output_type": "stream",
     "text": [
      "(1, 67500)\n"
     ]
    }
   ],
   "source": [
    "filename = 'imageclassification/Images/elephent2.jpg'\n",
    "img_array = imread (filename)\n",
    "img_resized = resize(img_array, (150,150,3))\n",
    "test_data =np.array (img_resized.flatten())\n",
    "test_data =test_data.reshape(1,-1)\n",
    "print (test_data.shape)"
   ]
  },
  {
   "cell_type": "code",
   "execution_count": 64,
   "id": "e62bbec5",
   "metadata": {},
   "outputs": [
    {
     "name": "stdout",
     "output_type": "stream",
     "text": [
      "Elephant\n"
     ]
    }
   ],
   "source": [
    "p = model.predict (test_data)\n",
    "if p==0: print ('Chicken')\n",
    "else: print ('Elephant')"
   ]
  },
  {
   "cell_type": "code",
   "execution_count": 65,
   "id": "57dc3aa8",
   "metadata": {},
   "outputs": [
    {
     "name": "stdout",
     "output_type": "stream",
     "text": [
      "Accuracy = 0.975 for n= 36\n"
     ]
    }
   ],
   "source": [
    "from sklearn.ensemble import RandomForestClassifier\n",
    "maxAccuracy = -1\n",
    "best_estimators =25\n",
    "for n in range (25, 200, 1):\n",
    "    rf=RandomForestClassifier (n_estimators=n)\n",
    "    rf.fit(xtrain, ytrain)\n",
    "    y_pred3 = rf.predict(xtest)\n",
    "    a3 = accuracy_score (y_pred3, ytest)\n",
    "    if a3 > maxAccuracy:\n",
    "        maxAccuracy =a3\n",
    "        best_estimators = n\n",
    "print ('Accuracy =', maxAccuracy, 'for n=', best_estimators)"
   ]
  },
  {
   "cell_type": "code",
   "execution_count": 66,
   "id": "1a407d94",
   "metadata": {},
   "outputs": [],
   "source": [
    "pickle.dump (model, open('RandomForestClassifierModel.pkl', 'wb'))"
   ]
  },
  {
   "cell_type": "code",
   "execution_count": 67,
   "id": "9099b4fe",
   "metadata": {},
   "outputs": [],
   "source": [
    "model = pickle.load (open('RandomForestClassifierModel.pkl', 'rb'))"
   ]
  },
  {
   "cell_type": "code",
   "execution_count": 68,
   "id": "bafdffad",
   "metadata": {},
   "outputs": [
    {
     "name": "stdout",
     "output_type": "stream",
     "text": [
      "(1, 67500)\n"
     ]
    }
   ],
   "source": [
    "filename = 'imageclassification/Images/chicken1.png'\n",
    "img_array = imread (filename)\n",
    "img_resized = resize(img_array, (150,150,3))\n",
    "test_data =np.array (img_resized.flatten())\n",
    "test_data =test_data.reshape(1,-1)\n",
    "print (test_data.shape)"
   ]
  },
  {
   "cell_type": "code",
   "execution_count": 69,
   "id": "2b2fe404",
   "metadata": {},
   "outputs": [
    {
     "name": "stdout",
     "output_type": "stream",
     "text": [
      "Chicken\n"
     ]
    }
   ],
   "source": [
    "p = model.predict (test_data)\n",
    "if p==0: print ('Chicken')\n",
    "else: print ('Elephant')"
   ]
  },
  {
   "cell_type": "code",
   "execution_count": 70,
   "id": "0efb0743",
   "metadata": {},
   "outputs": [],
   "source": [
    "ytrain[ytrain == 0] =-1\n",
    "ytest[ytest == 0] = -1"
   ]
  },
  {
   "cell_type": "code",
   "execution_count": null,
   "id": "766b24b3",
   "metadata": {},
   "outputs": [],
   "source": [
    "from sklearn.ensemble import AdaBoostClassifier\n",
    "from sklearn.metrics import accuracy_score\n",
    "\n",
    "maxAccuracy = -1\n",
    "best_estimators = 25\n",
    "\n",
    "for n in range(25, 200, 1):\n",
    "    ab = AdaBoostClassifier(n_estimators=n)\n",
    "    ab.fit(xtrain, ytrain)\n",
    "    y_pred4 = ab.predict(xtest)\n",
    "    a4 = accuracy_score(y_pred4, ytest)\n",
    "    if a4 > maxAccuracy:\n",
    "        maxAccuracy = a4\n",
    "        best_estimators = n\n",
    "\n",
    "print('Accuracy =', maxAccuracy, 'for n=', best_estimators)\n"
   ]
  },
  {
   "cell_type": "code",
   "execution_count": 72,
   "id": "9ca72812",
   "metadata": {},
   "outputs": [],
   "source": [
    "pickle.dump (model, open('AdaBoostClassifierModel.pkl', 'wb'))"
   ]
  },
  {
   "cell_type": "code",
   "execution_count": 73,
   "id": "701b442c",
   "metadata": {},
   "outputs": [],
   "source": [
    "model = pickle.load (open('AdaBoostClassifierModel.pkl', 'rb'))"
   ]
  },
  {
   "cell_type": "code",
   "execution_count": null,
   "id": "1cc954ee",
   "metadata": {},
   "outputs": [],
   "source": [
    "filename = 'imageclassification/Images/chicken2.png'\n",
    "img_array = imread (filename)\n",
    "img_resized = resize(img_array, (150,150,3))\n",
    "test_data =np.array (img_resized.flatten())\n",
    "test_data =test_data.reshape(1,-1)\n",
    "print (test_data.shape)"
   ]
  },
  {
   "cell_type": "code",
   "execution_count": 76,
   "id": "0b5fc7f8",
   "metadata": {},
   "outputs": [
    {
     "name": "stdout",
     "output_type": "stream",
     "text": [
      "Chicken\n"
     ]
    }
   ],
   "source": [
    "p = model.predict (test_data)\n",
    "if p==0: print ('Chicken')\n",
    "else: print ('Elephant')"
   ]
  },
  {
   "cell_type": "code",
   "execution_count": 78,
   "id": "56fa5394",
   "metadata": {},
   "outputs": [
    {
     "data": {
      "text/plain": [
       "0.4"
      ]
     },
     "execution_count": 78,
     "metadata": {},
     "output_type": "execute_result"
    }
   ],
   "source": [
    "from sklearn.neural_network import MLPClassifier\n",
    "\n",
    "r = MLPClassifier(hidden_layer_sizes=(2,), activation='relu', solver='adam', max_iter=500)\n",
    "r.fit(xtrain, ytrain)\n",
    "r.predict(xtest)\n",
    "r.score(xtest, ytest)\n"
   ]
  },
  {
   "cell_type": "code",
   "execution_count": 81,
   "id": "98a1c7e2",
   "metadata": {},
   "outputs": [],
   "source": [
    "pickle.dump (model, open('neuralnetworkModel.pkl', 'wb'))"
   ]
  },
  {
   "cell_type": "code",
   "execution_count": 82,
   "id": "9ac69f52",
   "metadata": {},
   "outputs": [],
   "source": [
    "model = pickle.load (open('neuralnetworkModel.pkl', 'rb'))"
   ]
  },
  {
   "cell_type": "code",
   "execution_count": 84,
   "id": "f91c692c",
   "metadata": {},
   "outputs": [
    {
     "name": "stdout",
     "output_type": "stream",
     "text": [
      "(1, 67500)\n"
     ]
    }
   ],
   "source": [
    "filename = 'imageclassification/Images/chicken3.jpg'\n",
    "img_array = imread (filename)\n",
    "img_resized = resize(img_array, (150,150,3))\n",
    "test_data =np.array (img_resized.flatten())\n",
    "test_data =test_data.reshape(1,-1)\n",
    "print (test_data.shape)"
   ]
  },
  {
   "cell_type": "code",
   "execution_count": 85,
   "id": "7aba1be9",
   "metadata": {},
   "outputs": [
    {
     "name": "stdout",
     "output_type": "stream",
     "text": [
      "Chicken\n"
     ]
    }
   ],
   "source": [
    "p = model.predict (test_data)\n",
    "if p==0: print ('Chicken')\n",
    "else: print ('Elephant')"
   ]
  }
 ],
 "metadata": {
  "kernelspec": {
   "display_name": "Python 3 (ipykernel)",
   "language": "python",
   "name": "python3"
  },
  "language_info": {
   "codemirror_mode": {
    "name": "ipython",
    "version": 3
   },
   "file_extension": ".py",
   "mimetype": "text/x-python",
   "name": "python",
   "nbconvert_exporter": "python",
   "pygments_lexer": "ipython3",
   "version": "3.9.13"
  }
 },
 "nbformat": 4,
 "nbformat_minor": 5
}
